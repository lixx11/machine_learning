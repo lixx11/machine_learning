{
 "cells": [
  {
   "cell_type": "markdown",
   "metadata": {},
   "source": [
    "# Intro to linear regression\n",
    "In this tutorial, we will solve a simple linear regression problem:\n",
    "$$y = Wx + b + \\text{noise}$$\n",
    "Input data: $x_{i}, y_{i}$ for $i=1...N$\n",
    "\n",
    "Our goal is to figure out the approximate value of W and b, represented by $\\hat{W}$ and $\\hat{b}$ by minimizing $\\sum_{i=1}^{N}(\\hat{y}_{i} - y_{i})^2$, where $\\hat{y}_{i}=\\hat{W}x_{i}+\\hat{b}$"
   ]
  },
  {
   "cell_type": "code",
   "execution_count": 1,
   "metadata": {
    "collapsed": false
   },
   "outputs": [],
   "source": [
    "# import tensorflow and other libraries\n",
    "import tensorflow as tf\n",
    "import numpy as np\n",
    "import matplotlib\n",
    "%matplotlib inline\n",
    "matplotlib.style.use('ggplot')\n",
    "import matplotlib.pyplot as plt"
   ]
  },
  {
   "cell_type": "markdown",
   "metadata": {},
   "source": [
    "Create input data using numpy. $$y = 0.1x + 0.3 + noise$$"
   ]
  },
  {
   "cell_type": "code",
   "execution_count": 2,
   "metadata": {
    "collapsed": false
   },
   "outputs": [],
   "source": [
    "# input \n",
    "x = np.random.rand(100).astype(np.float32)\n",
    "noise = np.random.normal(scale=0.01, size=len(x))\n",
    "y_ = 0.1 * x + 0.3 + noise\n",
    "\n",
    "# uncomment the following line to plot input data\n",
    "# plt.plot(x, y, '.')"
   ]
  },
  {
   "cell_type": "code",
   "execution_count": 3,
   "metadata": {
    "collapsed": false
   },
   "outputs": [],
   "source": [
    "# inference graph\n",
    "W = tf.Variable(tf.random_uniform([1], 0.0, 1.0), name='weight')\n",
    "b = tf.Variable(tf.zeros([1]), name='bias')\n",
    "y = W * x + b\n",
    "\n",
    "# uncomment the following lines to see W and b\n",
    "# print(W)\n",
    "# print(b)"
   ]
  },
  {
   "cell_type": "code",
   "execution_count": 4,
   "metadata": {
    "collapsed": false
   },
   "outputs": [],
   "source": [
    "# training graph\n",
    "loss = tf.reduce_mean(tf.square(y - y_)) # create an operation that calculate loss\n",
    "optimizer = tf.train.GradientDescentOptimizer(0.05) # create an optimizer\n",
    "train = optimizer.minimize(loss) # create an operation that minimizes loss\n",
    "\n",
    "# uncomment the following 3 lines to see what 'loss', 'optimizer' and 'train' are\n",
    "# print(\"loss:\", loss)\n",
    "# print(\"optimizer:\", optimizer)\n",
    "# print(\"train:\", train)\n",
    "# print(init)"
   ]
  },
  {
   "cell_type": "code",
   "execution_count": 5,
   "metadata": {
    "collapsed": false
   },
   "outputs": [],
   "source": [
    "# # uncomment the following line to see what we have built\n",
    "# print(tf.get_default_graph().as_graph_def())"
   ]
  },
  {
   "cell_type": "code",
   "execution_count": 6,
   "metadata": {
    "collapsed": false
   },
   "outputs": [],
   "source": [
    "# create a session and launch the graph\n",
    "sess = tf.Session()\n",
    "init = tf.global_variables_initializer() # create an operation initializes all the variables\n",
    "sess.run(init)\n",
    "y_init = sess.run(y)\n",
    "\n",
    "# uncomment the follwing line to see the initial W and b values\n",
    "# sess.run([W, b])"
   ]
  },
  {
   "cell_type": "code",
   "execution_count": 7,
   "metadata": {
    "collapsed": false
   },
   "outputs": [
    {
     "name": "stdout",
     "output_type": "stream",
     "text": [
      "[array([ 0.10015884], dtype=float32), array([ 0.30062521], dtype=float32)]\n"
     ]
    }
   ],
   "source": [
    "# perform training\n",
    "losses = list()\n",
    "for step in range(1000):\n",
    "    _, loss_ = sess.run([train, loss])\n",
    "    losses.append(loss_)\n",
    "    # uncomment the following lines to watch training happen real time\n",
    "    # if step % 100 == 0:\n",
    "    #    print(step, sess.run([W, b]))\n",
    "print(sess.run([W, b]))"
   ]
  },
  {
   "cell_type": "code",
   "execution_count": 8,
   "metadata": {
    "collapsed": false
   },
   "outputs": [],
   "source": [
    "# uncomment the following lines to show loss decline curve\n",
    "# plt.plot(losses)\n",
    "# plt.xlabel('step')\n",
    "# plt.ylabel('loss')"
   ]
  },
  {
   "cell_type": "code",
   "execution_count": 9,
   "metadata": {
    "collapsed": false
   },
   "outputs": [],
   "source": [
    "# uncomment the following lines to compare\n",
    "# plt.plot(x, y_, '.', label='target_values')\n",
    "# plt.plot(x, y_init, '.', label='initial_values')\n",
    "# plt.plot(x, sess.run(y), '.', label='trained_values')\n",
    "# plt.legend()"
   ]
  },
  {
   "cell_type": "markdown",
   "metadata": {
    "collapsed": true
   },
   "source": [
    "Back to [0_tf_hello_world.ipynb](0_tf_hello_world.ipynb)\n",
    "\n",
    "Next to [2_mnist_softmax.ipynb](2_mnist_softmax.ipynb)"
   ]
  }
 ],
 "metadata": {
  "kernelspec": {
   "display_name": "Python 3",
   "language": "python",
   "name": "python3"
  },
  "language_info": {
   "codemirror_mode": {
    "name": "ipython",
    "version": 3
   },
   "file_extension": ".py",
   "mimetype": "text/x-python",
   "name": "python",
   "nbconvert_exporter": "python",
   "pygments_lexer": "ipython3",
   "version": "3.5.2"
  }
 },
 "nbformat": 4,
 "nbformat_minor": 1
}
